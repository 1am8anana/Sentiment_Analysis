{
 "cells": [
  {
   "cell_type": "markdown",
   "metadata": {},
   "source": [
    "**Import test set that i just prepared for the model evaluation from process.py file**"
   ]
  },
  {
   "cell_type": "code",
   "execution_count": 1,
   "metadata": {},
   "outputs": [
    {
     "name": "stdout",
     "output_type": "stream",
     "text": [
      "  (0, 78)\t1\n"
     ]
    }
   ],
   "source": [
    "import preprocess as pp"
   ]
  },
  {
   "cell_type": "code",
   "execution_count": 2,
   "metadata": {},
   "outputs": [],
   "source": [
    "X1_test = pp.BOWtcas_test\n",
    "y1_test = pp.ytcas_test\n",
    "\n",
    "X2_test = pp.BOWdf_test\n",
    "y2_test = pp.ydf_test"
   ]
  },
  {
   "cell_type": "markdown",
   "metadata": {},
   "source": [
    "**Import model pipeline that i just trained and save them for the model evaluation from joblib library**"
   ]
  },
  {
   "cell_type": "code",
   "execution_count": 3,
   "metadata": {},
   "outputs": [],
   "source": [
    "import joblib"
   ]
  },
  {
   "cell_type": "code",
   "execution_count": 4,
   "metadata": {},
   "outputs": [],
   "source": [
    "# Load the trained pipeline from the file that i just saved\n",
    "lr_pipeline = joblib.load('best_lr_pipeline.pkl')\n",
    "nb_pipeline = joblib.load('best_nb_pipeline.pkl')\n",
    "rf_pipeline = joblib.load('best_rf_pipeline.pkl')\n",
    "xg_pipeline = joblib.load('best_xg_pipeline.pkl')\n",
    "nn_pipeline = joblib.load('best_nn_pipeline.pkl')\n",
    "\n",
    "lrc_pipeline = joblib.load('best_lrc_pipeline.pkl')\n",
    "nbc_pipeline = joblib.load('best_nbc_pipeline.pkl')\n",
    "rfc_pipeline = joblib.load('best_rfc_pipeline.pkl')\n",
    "xgc_pipeline = joblib.load('best_xgc_pipeline.pkl')\n",
    "nnc_pipeline = joblib.load('best_nnc_pipeline.pkl')\n"
   ]
  },
  {
   "cell_type": "markdown",
   "metadata": {},
   "source": [
    "# **Evaluation**"
   ]
  },
  {
   "cell_type": "markdown",
   "metadata": {},
   "source": [
    "let's see classification report"
   ]
  },
  {
   "cell_type": "code",
   "execution_count": 5,
   "metadata": {},
   "outputs": [],
   "source": [
    "from sklearn.metrics import classification_report\n",
    "import matplotlib.pyplot as plt"
   ]
  },
  {
   "cell_type": "markdown",
   "metadata": {},
   "source": [
    "---------------------------------------------------------------------------------------------------------------------------------------"
   ]
  },
  {
   "cell_type": "markdown",
   "metadata": {},
   "source": [
    "* tcas test set"
   ]
  },
  {
   "cell_type": "code",
   "execution_count": 6,
   "metadata": {},
   "outputs": [],
   "source": [
    "lr_preds = lr_pipeline.predict(X1_test)\n",
    "nb_preds = nb_pipeline.predict(X1_test)\n",
    "rf_preds = rf_pipeline.predict(X1_test)\n",
    "xg_preds = xg_pipeline.predict(X1_test)\n",
    "nn_preds = nn_pipeline.predict(X1_test)"
   ]
  },
  {
   "cell_type": "code",
   "execution_count": 7,
   "metadata": {},
   "outputs": [],
   "source": [
    "# Classification report for Logistic Regression\n",
    "lr_classification_report = classification_report(y1_test, lr_preds)\n",
    "\n",
    "# Classification report for Naive Bayes\n",
    "nb_classification_report = classification_report(y1_test, nb_preds)\n",
    "\n",
    "# Classification report for Random Forest\n",
    "rf_classification_report = classification_report(y1_test, rf_preds)\n",
    "\n",
    "# Classification report for XGBoost\n",
    "xg_classification_report = classification_report(y1_test, xg_preds)\n",
    "\n",
    "# Classification report for Neural Networks\n",
    "nn_classification_report = classification_report(y1_test, nn_preds)"
   ]
  },
  {
   "cell_type": "code",
   "execution_count": 8,
   "metadata": {},
   "outputs": [
    {
     "name": "stdout",
     "output_type": "stream",
     "text": [
      "Logistic Regression:\n",
      "              precision    recall  f1-score   support\n",
      "\n",
      "           0       0.81      1.00      0.90        13\n",
      "           1       1.00      0.75      0.86        12\n",
      "\n",
      "    accuracy                           0.88        25\n",
      "   macro avg       0.91      0.88      0.88        25\n",
      "weighted avg       0.90      0.88      0.88        25\n",
      "\n",
      "\n",
      "Naive Bayes:\n",
      "              precision    recall  f1-score   support\n",
      "\n",
      "           0       0.76      1.00      0.87        13\n",
      "           1       1.00      0.67      0.80        12\n",
      "\n",
      "    accuracy                           0.84        25\n",
      "   macro avg       0.88      0.83      0.83        25\n",
      "weighted avg       0.88      0.84      0.83        25\n",
      "\n"
     ]
    }
   ],
   "source": [
    "# Show classification reports\n",
    "print(\"Logistic Regression:\")\n",
    "print(lr_classification_report)\n",
    "\n",
    "print(\"\\nNaive Bayes:\")\n",
    "print(nb_classification_report)"
   ]
  },
  {
   "cell_type": "code",
   "execution_count": 9,
   "metadata": {},
   "outputs": [
    {
     "name": "stdout",
     "output_type": "stream",
     "text": [
      "\n",
      "Random Forest:\n",
      "              precision    recall  f1-score   support\n",
      "\n",
      "           0       0.72      1.00      0.84        13\n",
      "           1       1.00      0.58      0.74        12\n",
      "\n",
      "    accuracy                           0.80        25\n",
      "   macro avg       0.86      0.79      0.79        25\n",
      "weighted avg       0.86      0.80      0.79        25\n",
      "\n",
      "\n",
      "XGBoost:\n",
      "              precision    recall  f1-score   support\n",
      "\n",
      "           0       0.80      0.92      0.86        13\n",
      "           1       0.90      0.75      0.82        12\n",
      "\n",
      "    accuracy                           0.84        25\n",
      "   macro avg       0.85      0.84      0.84        25\n",
      "weighted avg       0.85      0.84      0.84        25\n",
      "\n",
      "\n",
      "Neural Networks:\n",
      "              precision    recall  f1-score   support\n",
      "\n",
      "           0       0.76      1.00      0.87        13\n",
      "           1       1.00      0.67      0.80        12\n",
      "\n",
      "    accuracy                           0.84        25\n",
      "   macro avg       0.88      0.83      0.83        25\n",
      "weighted avg       0.88      0.84      0.83        25\n",
      "\n"
     ]
    }
   ],
   "source": [
    "print(\"\\nRandom Forest:\")\n",
    "print(rf_classification_report)\n",
    "\n",
    "print(\"\\nXGBoost:\")\n",
    "print(xg_classification_report)\n",
    "\n",
    "print(\"\\nNeural Networks:\")\n",
    "print(nn_classification_report)"
   ]
  },
  {
   "cell_type": "markdown",
   "metadata": {},
   "source": [
    "# **Scores Visualization**"
   ]
  },
  {
   "cell_type": "markdown",
   "metadata": {},
   "source": [
    "**Visualize them for easy to understand**"
   ]
  },
  {
   "cell_type": "code",
   "execution_count": 10,
   "metadata": {},
   "outputs": [],
   "source": [
    "models = ['LR', 'NB', 'RF', 'XG', 'NN']\n",
    "metrics = ['Accuracy', 'Precision', 'Rcall', 'F1 Score']"
   ]
  },
  {
   "cell_type": "code",
   "execution_count": 11,
   "metadata": {},
   "outputs": [],
   "source": [
    "acc_scores = []\n",
    "pre_scores = []\n",
    "re_scores = []\n",
    "f1_scores = []\n",
    "\n",
    "loaded_pipelines = {\n",
    "    'LR': lr_pipeline,\n",
    "    'NB': nb_pipeline,\n",
    "    'RF': rf_pipeline,\n",
    "    'XG': xg_pipeline,\n",
    "    'NN': nn_pipeline\n",
    "}\n",
    "\n",
    "for model in models:\n",
    "    pipeline = loaded_pipelines[model]\n",
    "    predictions = pipeline.predict(X1_test)\n",
    "    classification_rep = classification_report(y1_test, predictions, output_dict=True)\n",
    "    acc_scores.append(classification_rep['accuracy'])\n",
    "    pre_scores.append(classification_rep['macro avg']['precision'])\n",
    "    re_scores.append(classification_rep['macro avg']['recall'])\n",
    "    f1_scores.append(classification_rep['macro avg']['f1-score'])"
   ]
  },
  {
   "cell_type": "code",
   "execution_count": 12,
   "metadata": {},
   "outputs": [
    {
     "data": {
      "image/png": "[encoded data removed]",
      "text/plain": [
       "<Figure size 1200x800 with 4 Axes>"
      ]
     },
     "metadata": {},
     "output_type": "display_data"
    }
   ],
   "source": [
    "# Create subplots for each performance metric\n",
    "fig, axes = plt.subplots(nrows=2, ncols=2, figsize=(12, 8))\n",
    "\n",
    "# Plot accuracy scores\n",
    "axes[0, 0].bar(models, acc_scores, color='skyblue')\n",
    "axes[0, 0].set_title('Accuracy')\n",
    "axes[0, 0].set_ylim(0, 1)\n",
    "\n",
    "# Plot precision scores\n",
    "axes[0, 1].bar(models, pre_scores, color='salmon')\n",
    "axes[0, 1].set_title('Precision')\n",
    "axes[0, 1].set_ylim(0, 1)\n",
    "\n",
    "# Plot recall scores\n",
    "axes[1, 0].bar(models, re_scores, color='lightgreen')\n",
    "axes[1, 0].set_title('Recall')\n",
    "axes[1, 0].set_ylim(0, 1)\n",
    "\n",
    "# Plot F1 scores\n",
    "axes[1, 1].bar(models, f1_scores, color='lightcoral')\n",
    "axes[1, 1].set_title('F1 Score')\n",
    "axes[1, 1].set_ylim(0, 1)\n",
    "\n",
    "# Adjust layout\n",
    "plt.tight_layout()\n",
    "\n",
    "# Show plots\n",
    "plt.show()"
   ]
  },
  {
   "cell_type": "markdown",
   "metadata": {},
   "source": [
    "---------------------------------------------------------------------------------------------------------------------------------------"
   ]
  },
  {
   "cell_type": "markdown",
   "metadata": {},
   "source": [
    "* combined test set"
   ]
  },
  {
   "cell_type": "code",
   "execution_count": 13,
   "metadata": {},
   "outputs": [],
   "source": [
    "lrc_preds = lrc_pipeline.predict(X2_test)\n",
    "nbc_preds = nbc_pipeline.predict(X2_test)\n",
    "rfc_preds = rfc_pipeline.predict(X2_test)\n",
    "xgc_preds = xgc_pipeline.predict(X2_test)\n",
    "nnc_preds = nnc_pipeline.predict(X2_test)"
   ]
  },
  {
   "cell_type": "code",
   "execution_count": 14,
   "metadata": {},
   "outputs": [],
   "source": [
    "# Classification report for Logistic Regression\n",
    "lrc_classification_report = classification_report(y2_test, lrc_preds)\n",
    "\n",
    "# Classification report for Naive Bayes\n",
    "nbc_classification_report = classification_report(y2_test, nbc_preds)\n",
    "\n",
    "# Classification report for Random Forest\n",
    "rfc_classification_report = classification_report(y2_test, rfc_preds)\n",
    "\n",
    "# Classification report for XGBoost\n",
    "xgc_classification_report = classification_report(y2_test, xgc_preds)\n",
    "\n",
    "# Classification report for Neural Networks\n",
    "nnc_classification_report = classification_report(y2_test, nnc_preds)"
   ]
  },
  {
   "cell_type": "code",
   "execution_count": 15,
   "metadata": {},
   "outputs": [
    {
     "name": "stdout",
     "output_type": "stream",
     "text": [
      "Logistic Regression (c):\n",
      "              precision    recall  f1-score   support\n",
      "\n",
      "           0       0.82      0.94      0.88        35\n",
      "           1       0.93      0.79      0.86        34\n",
      "\n",
      "    accuracy                           0.87        69\n",
      "   macro avg       0.88      0.87      0.87        69\n",
      "weighted avg       0.88      0.87      0.87        69\n",
      "\n",
      "\n",
      "Naive Bayes (c):\n",
      "              precision    recall  f1-score   support\n",
      "\n",
      "           0       0.74      1.00      0.85        35\n",
      "           1       1.00      0.65      0.79        34\n",
      "\n",
      "    accuracy                           0.83        69\n",
      "   macro avg       0.87      0.82      0.82        69\n",
      "weighted avg       0.87      0.83      0.82        69\n",
      "\n"
     ]
    }
   ],
   "source": [
    "# Show classification reports\n",
    "print(\"Logistic Regression (c):\")\n",
    "print(lrc_classification_report)\n",
    "\n",
    "print(\"\\nNaive Bayes (c):\")\n",
    "print(nbc_classification_report)"
   ]
  },
  {
   "cell_type": "code",
   "execution_count": 16,
   "metadata": {},
   "outputs": [
    {
     "name": "stdout",
     "output_type": "stream",
     "text": [
      "\n",
      "Random Forest (c):\n",
      "              precision    recall  f1-score   support\n",
      "\n",
      "           0       0.74      0.97      0.84        35\n",
      "           1       0.96      0.65      0.77        34\n",
      "\n",
      "    accuracy                           0.81        69\n",
      "   macro avg       0.85      0.81      0.81        69\n",
      "weighted avg       0.85      0.81      0.81        69\n",
      "\n",
      "\n",
      "XGBoost (c):\n",
      "              precision    recall  f1-score   support\n",
      "\n",
      "           0       0.70      0.94      0.80        35\n",
      "           1       0.91      0.59      0.71        34\n",
      "\n",
      "    accuracy                           0.77        69\n",
      "   macro avg       0.81      0.77      0.76        69\n",
      "weighted avg       0.80      0.77      0.76        69\n",
      "\n",
      "\n",
      "Neural Networks (c):\n",
      "              precision    recall  f1-score   support\n",
      "\n",
      "           0       0.82      0.89      0.85        35\n",
      "           1       0.87      0.79      0.83        34\n",
      "\n",
      "    accuracy                           0.84        69\n",
      "   macro avg       0.84      0.84      0.84        69\n",
      "weighted avg       0.84      0.84      0.84        69\n",
      "\n"
     ]
    }
   ],
   "source": [
    "print(\"\\nRandom Forest (c):\")\n",
    "print(rfc_classification_report)\n",
    "\n",
    "print(\"\\nXGBoost (c):\")\n",
    "print(xgc_classification_report)\n",
    "\n",
    "print(\"\\nNeural Networks (c):\")\n",
    "print(nnc_classification_report)"
   ]
  },
  {
   "cell_type": "code",
   "execution_count": 17,
   "metadata": {},
   "outputs": [],
   "source": [
    "models_c = ['LR(c)', 'NB(c)', 'RF(c)', 'XG(c)', 'NN(c)']\n",
    "metrics_c = ['Accuracy', 'Precision', 'Rcall', 'F1 Score']"
   ]
  },
  {
   "cell_type": "code",
   "execution_count": 18,
   "metadata": {},
   "outputs": [],
   "source": [
    "acc_scores_c = []\n",
    "pre_scores_c = []\n",
    "re_scores_c = []\n",
    "f1_scores_c = []\n",
    "\n",
    "loaded_pipelines = {\n",
    "    'LR(c)': lrc_pipeline,\n",
    "    'NB(c)': nbc_pipeline,\n",
    "    'RF(c)': rfc_pipeline,\n",
    "    'XG(c)': xgc_pipeline,\n",
    "    'NN(c)': nnc_pipeline\n",
    "}\n",
    "\n",
    "for model in models_c:\n",
    "    pipeline_c = loaded_pipelines[model]\n",
    "    predictions = pipeline_c.predict(X2_test)\n",
    "    classification_rep = classification_report(y2_test, predictions, output_dict=True)\n",
    "    acc_scores_c.append(classification_rep['accuracy'])\n",
    "    pre_scores_c.append(classification_rep['macro avg']['precision'])\n",
    "    re_scores_c.append(classification_rep['macro avg']['recall'])\n",
    "    f1_scores_c.append(classification_rep['macro avg']['f1-score'])"
   ]
  },
  {
   "cell_type": "code",
   "execution_count": 19,
   "metadata": {},
   "outputs": [
    {
     "data": {
      "image/png": "[encoded data removed]",
      "text/plain": [
       "<Figure size 1200x800 with 4 Axes>"
      ]
     },
     "metadata": {},
     "output_type": "display_data"
    }
   ],
   "source": [
    "# Create subplots for each performance metric\n",
    "fig, axes = plt.subplots(nrows=2, ncols=2, figsize=(12, 8))\n",
    "\n",
    "# Plot accuracy scores\n",
    "axes[0, 0].bar(models_c, acc_scores_c, color='skyblue')\n",
    "axes[0, 0].set_title('Accuracy')\n",
    "axes[0, 0].set_ylim(0, 1)\n",
    "\n",
    "# Plot precision scores\n",
    "axes[0, 1].bar(models_c, pre_scores_c, color='salmon')\n",
    "axes[0, 1].set_title('Precision')\n",
    "axes[0, 1].set_ylim(0, 1)\n",
    "\n",
    "# Plot recall scores\n",
    "axes[1, 0].bar(models_c, re_scores_c, color='lightgreen')\n",
    "axes[1, 0].set_title('Recall')\n",
    "axes[1, 0].set_ylim(0, 1)\n",
    "\n",
    "# Plot F1 scores\n",
    "axes[1, 1].bar(models_c, f1_scores_c, color='lightcoral')\n",
    "axes[1, 1].set_title('F1 Score')\n",
    "axes[1, 1].set_ylim(0, 1)\n",
    "\n",
    "# Adjust layout\n",
    "plt.tight_layout()\n",
    "\n",
    "# Show plots\n",
    "plt.show()"
   ]
  },
  {
   "cell_type": "markdown",
   "metadata": {},
   "source": [
    "*Test predictions*"
   ]
  },
  {
   "cell_type": "code",
   "execution_count": 20,
   "metadata": {},
   "outputs": [],
   "source": [
    "from preprocess import n2_process"
   ]
  },
  {
   "cell_type": "code",
   "execution_count": 25,
   "metadata": {},
   "outputs": [
    {
     "name": "stdout",
     "output_type": "stream",
     "text": [
      "  (0, 695)\t1\n",
      "  (0, 741)\t1\n",
      "  (0, 866)\t1\n",
      "  (0, 1126)\t1\n"
     ]
    }
   ],
   "source": [
    "new_sentence = \"สวัสดีเช้า วันนี้อากาศแย่มาก\"\n",
    "print(n2_process(new_sentence))"
   ]
  },
  {
   "cell_type": "code",
   "execution_count": 26,
   "metadata": {},
   "outputs": [
    {
     "data": {
      "text/plain": [
       "array([0], dtype=int64)"
      ]
     },
     "execution_count": 26,
     "metadata": {},
     "output_type": "execute_result"
    }
   ],
   "source": [
    "lrc_pipeline.predict(n2_process(new_sentence))"
   ]
  }
 ],
 "metadata": {
  "kernelspec": {
   "display_name": "Python 3",
   "language": "python",
   "name": "python3"
  },
  "language_info": {
   "codemirror_mode": {
    "name": "ipython",
    "version": 3
   },
   "file_extension": ".py",
   "mimetype": "text/x-python",
   "name": "python",
   "nbconvert_exporter": "python",
   "pygments_lexer": "ipython3",
   "version": "3.11.5"
  }
 },
 "nbformat": 4,
 "nbformat_minor": 2
}
